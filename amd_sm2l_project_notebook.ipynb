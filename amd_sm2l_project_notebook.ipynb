{
  "nbformat": 4,
  "nbformat_minor": 0,
  "metadata": {
    "kernelspec": {
      "name": "python3",
      "display_name": "Python 3"
    },
    "colab": {
      "name": "amd-sm2l-project-notebook.ipynb",
      "provenance": [],
      "collapsed_sections": [
        "2JnyRXvNB8ID"
      ],
      "toc_visible": true
    }
  },
  "cells": [
    {
      "cell_type": "markdown",
      "metadata": {
        "id": "xoYTal8F893L"
      },
      "source": [
        "# Joint project AMD - SM2L\n",
        "Davide Gavio - 930569\n",
        "\n",
        "\n",
        "\n"
      ]
    },
    {
      "cell_type": "markdown",
      "metadata": {
        "id": "KprEsQWz7NTh"
      },
      "source": [
        "# Google Colab settings\n",
        "Those actions need to be done in order to have the notebook working on Google Colab. \n",
        "If the notebook is executed elsewhere skip to the next cell.\n"
      ]
    },
    {
      "cell_type": "code",
      "metadata": {
        "id": "mk1cDVP62_Rf",
        "outputId": "c2e9a883-7a9c-494a-d030-c37737fff19d",
        "colab": {
          "base_uri": "https://localhost:8080/",
          "height": 68
        }
      },
      "source": [
        "!apt-get install openjdk-8-jdk-headless -qq > /dev/null\n",
        "!wget -q https://downloads.apache.org/spark/spark-3.0.1/spark-3.0.1-bin-hadoop2.7.tgz   \n",
        "!tar xf spark-3.0.1-bin-hadoop2.7.tgz\n",
        "!pip install -q findspark pyspark seaborn kaggle scikit-learn matplotlib pandas\n",
        "!rm spark-3.0.1-bin-hadoop2.7.tgz\n",
        "import os\n",
        "os.environ[\"JAVA_HOME\"] = \"/usr/lib/jvm/java-8-openjdk-amd64\"\n",
        "os.environ[\"SPARK_HOME\"] = \"/content/spark-3.0.1-bin-hadoop2.7\""
      ],
      "execution_count": null,
      "outputs": [
        {
          "output_type": "stream",
          "text": [
            "\u001b[K     |████████████████████████████████| 204.2MB 74kB/s \n",
            "\u001b[K     |████████████████████████████████| 204kB 43.6MB/s \n",
            "\u001b[?25h  Building wheel for pyspark (setup.py) ... \u001b[?25l\u001b[?25hdone\n"
          ],
          "name": "stdout"
        }
      ]
    },
    {
      "cell_type": "markdown",
      "metadata": {
        "id": "mHnXTcoq7J5i"
      },
      "source": [
        "# PySpark settings\n"
      ]
    },
    {
      "cell_type": "code",
      "metadata": {
        "id": "KUn7Dsf99bRS"
      },
      "source": [
        "import findspark\n",
        "findspark.init()\n",
        "from pyspark.sql import SparkSession\n",
        "max_memory = '4g'\n",
        "spark = SparkSession.builder.appName('amd-sm2l-project').master(\"local[*]\").config(\"spark.executor.memory\", max_memory).config(\"spark.driver.memory\", max_memory).getOrCreate()"
      ],
      "execution_count": null,
      "outputs": []
    },
    {
      "cell_type": "markdown",
      "metadata": {
        "id": "j8inu3DYIcba"
      },
      "source": [
        "# Imports and settings\n"
      ]
    },
    {
      "cell_type": "code",
      "metadata": {
        "id": "Z8ApGnI3If3d"
      },
      "source": [
        "!mkdir ~/.kaggle\n",
        "!echo '{\"username\":\"davidegavio\",\"key\":\"f4540434f20370f2bf34e2f9010b647e\"}' > ~/.kaggle/kaggle.json\n",
        "!chmod 600 ~/.kaggle/kaggle.json"
      ],
      "execution_count": null,
      "outputs": []
    },
    {
      "cell_type": "code",
      "metadata": {
        "id": "JzUMYDbp2nx_"
      },
      "source": [
        "from matplotlib.pyplot import xlabel, ylabel\n",
        "import pandas as pd\n",
        "from pyspark import SparkContext\n",
        "from pyspark.sql import SparkSession\n",
        "from pyspark.conf import SparkConf\n",
        "import pyspark.sql.functions as f\n",
        "from pyspark.sql.types import DoubleType, Row\n",
        "from pyspark.context import SparkContext\n",
        "from pyspark.ml import Pipeline\n",
        "from pyspark.ml.feature import Imputer, MinMaxScaler, OneHotEncoder, VectorAssembler, StringIndexer, StandardScaler\n",
        "from pyspark.mllib.linalg import DenseVector\n",
        "from pyspark.mllib.regression import LabeledPoint, RidgeRegressionWithSGD\n",
        "from pyspark.mllib.evaluation import RegressionMetrics\n",
        "from pyspark.ml.evaluation import RegressionEvaluator\n",
        "from pyspark.ml.feature import ChiSqSelector, VectorIndexer\n",
        "import numpy as np\n",
        "import matplotlib.pyplot as plt\n",
        "import seaborn as sn\n",
        "from zipfile import ZipFile\n",
        "import os\n",
        "from datetime import datetime\n",
        "from pyspark.sql.types import *\n",
        "import math\n",
        "import kaggle"
      ],
      "execution_count": null,
      "outputs": []
    },
    {
      "cell_type": "code",
      "metadata": {
        "id": "4vNXHUuZ83BU"
      },
      "source": [
        "learning_rate = 0.000000001\n",
        "n_iterations = 1\n",
        "folds = 10\n",
        "lowest_error = float('inf')\n",
        "alphas = [1e-15, 1e-10, 1e-8, 1e-4, 1e-3, 1e-2, 1, 5, 10, 20]\n",
        "num_partitions = spark.sparkContext.defaultParallelism * 3"
      ],
      "execution_count": null,
      "outputs": []
    },
    {
      "cell_type": "code",
      "metadata": {
        "id": "Oo2O7olfI3zd",
        "outputId": "22f7e1e5-1a4b-4fe0-8fee-2c3a5b57f11b",
        "colab": {
          "base_uri": "https://localhost:8080/",
          "height": 85
        }
      },
      "source": [
        "print('Parallelism info')\n",
        "print(\"Default parallelism: {}\".format(spark.sparkContext.defaultParallelism))\n",
        "print(\"Custom parallelism: {}\\n\".format(num_partitions))"
      ],
      "execution_count": null,
      "outputs": [
        {
          "output_type": "stream",
          "text": [
            "Parallelism info\n",
            "Default parallelism: 2\n",
            "Custom parallelism: 6\n",
            "\n"
          ],
          "name": "stdout"
        }
      ]
    },
    {
      "cell_type": "markdown",
      "metadata": {
        "id": "uCoQaLls9pbz"
      },
      "source": [
        "# Ridge Regression\n"
      ]
    },
    {
      "cell_type": "code",
      "metadata": {
        "id": "Y7K7Hh3i2nyT"
      },
      "source": [
        "import numpy as np \n",
        "import math\n",
        "from datetime import datetime\n",
        "from pyspark.sql import SparkSession\n",
        "from progressbar import ProgressBar\n",
        " \n",
        " \n",
        " \n",
        "class SparkRidgeRegression(object):\n",
        "    \"\"\" Base regression model. Models the relationship between a scalar dependent variable y and the independent \n",
        "        variables X. \n",
        "        Parameters:\n",
        "        -----------\n",
        "        n_iterations: float\n",
        "            The number of training iterations the algorithm will tune the weights for.\n",
        "        learning_rate: float\n",
        "            The step length that will be used when updating the weights.\"\"\"\n",
        "    def __init__(self, n_iterations, learning_rate, reg_factor):\n",
        "        self.n_iterations = n_iterations\n",
        "        self.learning_rate = learning_rate\n",
        "        self.reg_factor = reg_factor\n",
        "    \n",
        "    def get_training_errors(self):\n",
        "        return self.training_errors\n",
        "    \n",
        "    def set_training_errors(self, error):\n",
        "        self.training_errors = error\n",
        " \n",
        "    def squared_error(self, target, prediction):\n",
        "        return (target - prediction) ** 2\n",
        " \n",
        "    def root_mean_squared_error(self, predictions):\n",
        "        return np.sqrt(predictions.map(lambda p: self.squared_error(*p)).mean())\n",
        " \n",
        "    def mean_squared_error(self, predictions):\n",
        "        return predictions.map(lambda p: self.squared_error(p[0], p[1])).mean()\n",
        " \n",
        "    def mean_absolute_error(self, predictions):\n",
        "        return np.abs(predictions.map(lambda prediction: prediction[1] - prediction[0]).reduce(lambda a, b: a + b))/predictions.count()\n",
        "    \n",
        "    def r2(self, predictions):\n",
        "        mean_ = predictions.rdd.map(lambda t: t[0]).mean()\n",
        "        sum_squares = predictions.rdd.map(lambda t: (t[0] - mean_)**2).sum()\n",
        "        residual_sum_squares = predictions.rdd.map(lambda t: self.squared_error(*t)).sum()\n",
        "        return 1 - (residual_sum_squares / sum_squares)\n",
        " \n",
        " \n",
        "    def get_grad_sum(self, example):\n",
        "        return (self.weights.dot(DenseVector(example.features)) - example.label) * example.features\n",
        " \n",
        "    \n",
        "    def fit(self, observations):\n",
        "        progressbar = ProgressBar()\n",
        "        features_number = len(observations.take(1)[0].features)\n",
        "        self.training_errors = []\n",
        "        self.weights = np.zeros(features_number)        \n",
        "        start = datetime.now()\n",
        "        # Do gradient descent for n_iterations\n",
        "        for i in progressbar(range(self.n_iterations)):\n",
        "          # Get the prediction given an example and the current weights\n",
        "          predictions = observations.map(lambda example: self.predict(example)) # Result [label, prediction]\n",
        "          # Calculate l2 loss\n",
        "          regularization = self.reg_factor * self.weights\n",
        "          self.training_errors.append(self.root_mean_squared_error(predictions))\n",
        "          # Gradient of l2 loss w.r.t w\n",
        "          grad_w = observations.map(lambda example: DenseVector(self.get_grad_sum(example))).reduce(lambda x, y: x + y) + regularization\n",
        "          # Update the weights\n",
        "          self.weights -= self.learning_rate * grad_w\n",
        "          if i == self.n_iterations-1:\n",
        "            float_predictions = predictions.map(lambda xs: [float(x) for x in xs])\n",
        "            predictions_df = float_predictions.toDF(['label', 'predictions'])\n",
        "            print('From scratch training MSE: {}'.format(self.mean_squared_error(predictions=predictions)))\n",
        "            print('From scratch training RMSE: {}'.format(self.root_mean_squared_error(predictions=predictions)))\n",
        "            print('From scratch training MAE: {}'.format(self.mean_absolute_error(predictions=predictions)))\n",
        "            print('From scratch test R2: {}'.format(self.r2(predictions_df))\n",
        " \n",
        "    def predict(self, example):\n",
        "        return (example.label, self.weights.dot(DenseVector(example.features)))"
      ],
      "execution_count": null,
      "outputs": []
    },
    {
      "cell_type": "markdown",
      "metadata": {
        "id": "xHV_XrIA9xcy"
      },
      "source": [
        "# Utilities"
      ]
    },
    {
      "cell_type": "code",
      "metadata": {
        "id": "l8LrT0C62nyg"
      },
      "source": [
        "def to_labeledpoint(row):\n",
        "  row_dict = row.asDict()\n",
        "  target = np.array(row_dict['target'][0])\n",
        "  features = np.array(row_dict['scaled_features']).tolist()\n",
        "  features.insert(0, 1.0)\n",
        "  return LabeledPoint(target, features)\n",
        "\n",
        "def remove_outliers(df):\n",
        "  quantiles = df.approxQuantile(label_to_predict, [0.25, 0.75], 0.1)\n",
        "  iqr = quantiles[1] - quantiles[0]\n",
        "  if iqr != 0:\n",
        "    df = df.filter(f.col(label_to_predict).between(quantiles[0] - (1.5 * iqr), quantiles[1] + (1.5 * iqr)))\n",
        "  return df"
      ],
      "execution_count": null,
      "outputs": []
    },
    {
      "cell_type": "markdown",
      "metadata": {
        "id": "Ewvj9CPvCbEQ"
      },
      "source": [
        "# Dataset download"
      ]
    },
    {
      "cell_type": "code",
      "metadata": {
        "id": "pcFw1LhWCj0n",
        "outputId": "4499d486-b7e1-4015-a95d-20de7e38bd1f",
        "colab": {
          "base_uri": "https://localhost:8080/",
          "height": 68
        }
      },
      "source": [
        "print('Downloading necessary files from Kaggle')\n",
        "startTime = datetime.now()\n",
        "kaggle.api.authenticate()\n",
        "if os.path.exists('ss13pusa.csv'):\n",
        "  os.remove('ss13pusa.csv')\n",
        "elif os.path.exists('ss13pusb.csv'):\n",
        "  os.remove('ss13pusb.csv')\n",
        "else:\n",
        "  print('The file does not exist')\n",
        "kaggle.api.dataset_download_file('census/2013-american-community-survey ', 'ss13pusa.csv')\n",
        "kaggle.api.dataset_download_file('census/2013-american-community-survey ', 'ss13pusb.csv')\n",
        "with ZipFile('ss13pusa.csv.zip', 'r') as zipObj:\n",
        "   zipObj.extractall()\n",
        "with ZipFile('ss13pusb.csv.zip', 'r') as zipObj:\n",
        "   zipObj.extractall()\n",
        "os.remove('ss13pusa.csv.zip')\n",
        "os.remove('ss13pusb.csv.zip')\n",
        "print('Your download has been completed in: {}'.format(datetime.now() - startTime))"
      ],
      "execution_count": null,
      "outputs": [
        {
          "output_type": "stream",
          "text": [
            "Downloading necessary files from Kaggle\n",
            "The file does not exist\n",
            "Your download has been completed in: 0:00:41.322735\n"
          ],
          "name": "stdout"
        }
      ]
    },
    {
      "cell_type": "markdown",
      "metadata": {
        "id": "tj4yxo3290hH"
      },
      "source": [
        "# Preprocessing"
      ]
    },
    {
      "cell_type": "code",
      "metadata": {
        "id": "By7ssonw2nys",
        "outputId": "269a7115-5c11-4475-8b74-d981097f02a6",
        "colab": {
          "base_uri": "https://localhost:8080/",
          "height": 136
        }
      },
      "source": [
        "%%time\n",
        "print('Reading from csv')\n",
        "df_a = spark.read.csv('ss13pusa.csv', inferSchema=True, header=True)\n",
        "df_a = df_a.sample(False, 0.075, 6)\n",
        "df_b = spark.read.csv('ss13pusb.csv', inferSchema=True, header=True)\n",
        "df_b = df_b.sample(False, 0.075, 6)\n",
        "df = df_a.union(df_b)\n",
        "df = df.repartition(numPartitions=num_partitions)\n",
        "label_to_predict = 'WAGP'\n",
        "drop_thresh = .66\n",
        "print(f\"The shape is {df.count():d} rows by {len(df.columns):d} columns.\")\n",
        "print('The dataframe is divided in {} partitions'.format(df.rdd.getNumPartitions()))\n",
        "print('==> Done\\n')"
      ],
      "execution_count": null,
      "outputs": [
        {
          "output_type": "stream",
          "text": [
            "Reading from csv\n",
            "The shape is 235486 rows by 283 columns.\n",
            "The dataframe is divided in 6 partitions\n",
            "==> Done\n",
            "\n",
            "CPU times: user 102 ms, sys: 29.5 ms, total: 131 ms\n",
            "Wall time: 1min 23s\n"
          ],
          "name": "stdout"
        }
      ]
    },
    {
      "cell_type": "code",
      "metadata": {
        "id": "ZlFlUp4vtBlb",
        "outputId": "840e0011-98bb-4c0c-8ff7-8b8dd4d407bd",
        "colab": {
          "base_uri": "https://localhost:8080/",
          "height": 187
        }
      },
      "source": [
        "df.select(label_to_predict).describe().show()"
      ],
      "execution_count": null,
      "outputs": [
        {
          "output_type": "stream",
          "text": [
            "+-------+------------------+\n",
            "|summary|              WAGP|\n",
            "+-------+------------------+\n",
            "|  count|             16681|\n",
            "|   mean|20308.095917510942|\n",
            "| stddev|36305.089577609935|\n",
            "|    min|                 0|\n",
            "|    max|            327000|\n",
            "+-------+------------------+\n",
            "\n"
          ],
          "name": "stdout"
        }
      ]
    },
    {
      "cell_type": "code",
      "metadata": {
        "id": "5XwZz1ei2ny4",
        "outputId": "777ef325-3b67-4b3b-e62d-ceab64d5f526",
        "colab": {
          "base_uri": "https://localhost:8080/",
          "height": 170
        }
      },
      "source": [
        "%%time\n",
        "print('Dropping useless columns, columns and rows with more than {}% of null values'.format(drop_thresh*100))\n",
        "df = df.select(*(f.col(c).cast(\"float\").alias(c) for c in df.columns)) # Casting the dataframe to float\n",
        "df = df.drop('RT', 'SERIALNO', 'PINCP ', 'PERNP' ) # Removing unnecessary columns\n",
        "count_before = df.count()\n",
        "thresh = int(len(df.columns)*drop_thresh)\n",
        "df = df.dropna(thresh=thresh) # Dropping rows with more than 66% of null values\n",
        "print('Dropped {} rows with less than {}% of non-null values'.format(count_before-df.count(), drop_thresh*100))\n",
        "print('Keeping only rows with non-null value in target position')\n",
        "count_before = df.count()\n",
        "df = df.filter(df[label_to_predict].isNotNull()) # Keeping only the rows with not-null values in the corresponding label\n",
        "data_agg = df.agg(*[f.count(f.when(f.isnull(c), c)).alias(c) for c in df.columns])\n",
        "print('Dropped {} rows with with null in {} column'.format(count_before-df.count(), label_to_predict))\n",
        "count_before = df.count()\n",
        "col_before = len(df.columns)\n",
        "over_thresh_col = df.select([(f.count(f.when(f.col(c).isNull(), c))/count_before).alias(c) for c in df.columns])\n",
        "scheme = df.columns\n",
        "null_distr = over_thresh_col.collect()[0].asDict().values()\n",
        "for i in np.where(np.array(list(null_distr)) > ((1 - drop_thresh)))[0]:\n",
        "  df = df.drop(scheme[i])\n",
        "print('Dropped {} columns with less than {}% of non-null values'.format(col_before-len(df.columns), drop_thresh*100))\n",
        "# print(f\"The shape is {df.count():d} rows by {len(df.columns):d} columns.\")\n",
        "print('==> Done\\n')"
      ],
      "execution_count": null,
      "outputs": [
        {
          "output_type": "stream",
          "text": [
            "Dropping useless columns, columns and rows with more than 66.0% of null values\n",
            "Dropped 0 rows with less than 66.0% of non-null values\n",
            "Keeping only rows with non-null value in target position\n",
            "Dropped 3319 rows with with null in WAGP column\n",
            "Dropped 47 columns with less than 66.0% of non-null values\n",
            "==> Done\n",
            "\n",
            "CPU times: user 1.24 s, sys: 369 ms, total: 1.61 s\n",
            "Wall time: 51.9 s\n"
          ],
          "name": "stdout"
        }
      ]
    },
    {
      "cell_type": "code",
      "metadata": {
        "id": "VnqUpncPSWFq",
        "outputId": "2721114a-f5e8-487e-a54a-d63bf40d4ee0",
        "colab": {
          "base_uri": "https://localhost:8080/",
          "height": 187
        }
      },
      "source": [
        "df.select(label_to_predict).describe().show()"
      ],
      "execution_count": null,
      "outputs": [
        {
          "output_type": "stream",
          "text": [
            "+-------+------------------+\n",
            "|summary|              WAGP|\n",
            "+-------+------------------+\n",
            "|  count|             16681|\n",
            "|   mean|20308.095917510942|\n",
            "| stddev| 36305.08957760993|\n",
            "|    min|               0.0|\n",
            "|    max|          327000.0|\n",
            "+-------+------------------+\n",
            "\n"
          ],
          "name": "stdout"
        }
      ]
    },
    {
      "cell_type": "code",
      "metadata": {
        "id": "fREFKGcDI-vo",
        "outputId": "9d470828-b603-4cae-ef72-771f78b88ac7",
        "colab": {
          "base_uri": "https://localhost:8080/",
          "height": 68
        }
      },
      "source": [
        "%%time\n",
        "print('Removing outliers')\n",
        "df = remove_outliers(df)"
      ],
      "execution_count": null,
      "outputs": [
        {
          "output_type": "stream",
          "text": [
            "Removing outliers\n",
            "CPU times: user 15.8 ms, sys: 5.28 ms, total: 21.1 ms\n",
            "Wall time: 8.15 s\n"
          ],
          "name": "stdout"
        }
      ]
    },
    {
      "cell_type": "code",
      "metadata": {
        "id": "XSAFdAyu2nzE",
        "outputId": "4b28b813-d901-4dd2-e2c6-4fe34deae9a8",
        "colab": {
          "base_uri": "https://localhost:8080/",
          "height": 102
        }
      },
      "source": [
        "%%time\n",
        "imput_strategy = 'mean'\n",
        "print('Filling remaining null values with {} of each column'.format(imput_strategy))\n",
        "imputer = Imputer() # Filling missing values with mean of the column\n",
        "imputer.setInputCols(df.columns)\n",
        "imputer.setOutputCols(df.columns)\n",
        "imputer.setStrategy(imput_strategy)\n",
        "df = imputer.fit(df).transform(df)\n",
        "print('==> Done\\n')"
      ],
      "execution_count": null,
      "outputs": [
        {
          "output_type": "stream",
          "text": [
            "Filling remaining null values with mean of each column\n",
            "==> Done\n",
            "\n",
            "CPU times: user 144 ms, sys: 27.7 ms, total: 172 ms\n",
            "Wall time: 18.3 s\n"
          ],
          "name": "stdout"
        }
      ]
    },
    {
      "cell_type": "code",
      "metadata": {
        "id": "S5Q3lUZDTR7Z",
        "outputId": "2c3ba3d4-ccef-4a71-9a1a-95f643931979",
        "colab": {
          "base_uri": "https://localhost:8080/",
          "height": 187
        }
      },
      "source": [
        "df.select(label_to_predict).describe().show()"
      ],
      "execution_count": null,
      "outputs": [
        {
          "output_type": "stream",
          "text": [
            "+-------+------------------+\n",
            "|summary|              WAGP|\n",
            "+-------+------------------+\n",
            "|  count|             14694|\n",
            "|   mean|10576.517490132026|\n",
            "| stddev|14920.473500290755|\n",
            "|    min|               0.0|\n",
            "|    max|           50000.0|\n",
            "+-------+------------------+\n",
            "\n"
          ],
          "name": "stdout"
        }
      ]
    },
    {
      "cell_type": "code",
      "metadata": {
        "id": "WX-LX2Cy2nzO",
        "outputId": "8b26d7fb-3d8e-441b-a5c1-61d109f3879c",
        "colab": {
          "base_uri": "https://localhost:8080/",
          "height": 119
        }
      },
      "source": [
        "%%time\n",
        "print('Choosing top features, assembling and scaling values')\n",
        "feature_columns = df.columns\n",
        "feature_columns.remove(label_to_predict)\n",
        "features_assembler = VectorAssembler(inputCols=feature_columns, outputCol='features')\n",
        "feature_selector = ChiSqSelector(numTopFeatures=50, featuresCol=\"features\", outputCol=\"selected_features\", labelCol=label_to_predict)\n",
        "target_assembler = VectorAssembler(inputCols=[label_to_predict], outputCol='target')\n",
        "features_standardscaler = StandardScaler(inputCol='selected_features', outputCol='scaled_features', withStd=True, withMean=False)\n",
        "df = Pipeline(stages=[features_assembler, target_assembler, feature_selector, features_standardscaler]).fit(df).transform(df)\n",
        "print(f\"The shape is {df.count():d} rows by {len(np.array(list(df.select('selected_features').take(1)))[0][0]):d} columns.\")\n",
        "print('==> Done\\n')"
      ],
      "execution_count": null,
      "outputs": [
        {
          "output_type": "stream",
          "text": [
            "Choosing top features, assembling and scaling values\n",
            "The shape is 14694 rows by 50 columns.\n",
            "==> Done\n",
            "\n",
            "CPU times: user 207 ms, sys: 47.8 ms, total: 255 ms\n",
            "Wall time: 1min 1s\n"
          ],
          "name": "stdout"
        }
      ]
    },
    {
      "cell_type": "code",
      "metadata": {
        "id": "6zsADoPQ2nzZ",
        "outputId": "2302bd18-797a-4760-8114-06941643e133",
        "colab": {
          "base_uri": "https://localhost:8080/",
          "height": 170
        }
      },
      "source": [
        "%%time\n",
        "print('Creating labeled points')\n",
        "to_label_df = df.select('target', 'scaled_features')\n",
        "labeled_data = to_label_df.rdd.map(lambda row: to_labeledpoint(row))\n",
        "print('Splitting in training set, validation set and test set')\n",
        "labeled_train_df, labeled_validation_df, labeled_test_df = labeled_data.randomSplit(weights=[.6, .2, .2], seed=6)\n",
        "labeled_train_df = labeled_train_df.repartition(num_partitions)\n",
        "labeled_validation_df = labeled_validation_df.repartition(num_partitions)\n",
        "labeled_test_df = labeled_test_df.repartition(num_partitions)\n",
        "labeled_train_df.cache()\n",
        "print('Training set count: {} divided in {} partitions'.format(labeled_train_df.count(), labeled_train_df.getNumPartitions()))\n",
        "print('Validation set count: {} divided in {} partitions'.format(labeled_validation_df.count(), labeled_validation_df.getNumPartitions()))\n",
        "print('Test set count: {} divided in {} partitions'.format(labeled_test_df.count(), labeled_test_df.getNumPartitions()))\n",
        "print('==> Done\\n')"
      ],
      "execution_count": null,
      "outputs": [
        {
          "output_type": "stream",
          "text": [
            "Creating labeled points\n",
            "Splitting in training set, validation set and test set\n",
            "Training set count: 8818 divided in 6 partitions\n",
            "Validation set count: 2880 divided in 6 partitions\n",
            "Test set count: 2996 divided in 6 partitions\n",
            "==> Done\n",
            "\n",
            "CPU times: user 122 ms, sys: 35 ms, total: 157 ms\n",
            "Wall time: 48.7 s\n"
          ],
          "name": "stdout"
        }
      ]
    },
    {
      "cell_type": "code",
      "metadata": {
        "id": "WWo58RTF6YpR",
        "outputId": "fcf2421a-d41b-433f-cdf8-918476a2abda",
        "colab": {
          "base_uri": "https://localhost:8080/",
          "height": 88
        }
      },
      "source": [
        "print('Training and predictions will work on ')\n",
        "labeled_data.take(2)"
      ],
      "execution_count": null,
      "outputs": [
        {
          "output_type": "stream",
          "text": [
            "Training and predictions will work on \n"
          ],
          "name": "stdout"
        },
        {
          "output_type": "execute_result",
          "data": {
            "text/plain": [
              "[LabeledPoint(0.0, [1.0,0.34582504254644,2.0388785030870715,0.6373384271360183,6.751824614364044,5.701892665863204,11.628740622923033,4.000643104019263,4.347014318906432,5.7394680277083605,57.17618161897666,0.5814417183426508,19.433144598490614,16.09474499635029,3.6184165258154892,21.314288712381238,5.793577827681648,5.76754745853454,5.013941319897357,3.3131492535317837,2.2319917404073086,2.1848841201506577,3.264628013680964,2.1478770774955165,2.8718133691969716,2.3542006146647982,2.4948341708065276,5.621060191091287,0.9149332360065636,2.868809036262363,0.9310660918106292,4.52990876500679,0.048412095584263314,0.2793129848284936,1.7902275014134885,4.180619273513982,4.085809399751916,0.09909209157905884,0.2675741892179022,0.0,0.0,0.0,0.0,0.0,0.0,0.0,0.0,0.0,0.0,0.0,0.0]),\n",
              " LabeledPoint(0.0, [1.0,0.138330017018576,2.5243257657268505,1.3591773369834004,3.375912307182022,2.850946332931602,11.628740622923033,4.000643104019263,4.347014318906432,2.8697340138541803,57.17618161897666,2.907208591713254,19.287196924421544,15.917257077570753,2.5591035169890466,21.18156809726287,3.8623852184544316,3.8450316390230266,3.3426275465982376,3.52022108187752,2.2319917404073086,3.2773261802259865,4.287699841990546,2.2782593921038705,2.8718133691969716,2.3542006146647982,2.4948341708065276,2.8105300955456434,0.9149332360065636,2.8684760991296057,2.7931982754318874,2.4086207583863266,0.33888466908984316,0.8379389544854807,0.45977428657125535,4.180619273513982,2.042904699875958,0.19818418315811767,0.5351483784358044,0.0,0.0,0.0,0.0,0.0,0.0,0.0,0.0,0.0,0.0,0.0,0.0])]"
            ]
          },
          "metadata": {
            "tags": []
          },
          "execution_count": 50
        }
      ]
    },
    {
      "cell_type": "markdown",
      "metadata": {
        "id": "2JnyRXvNB8ID"
      },
      "source": [
        "# Best model individuation"
      ]
    },
    {
      "cell_type": "code",
      "metadata": {
        "id": "KZQN11Tb2-xp"
      },
      "source": [
        "%%time\n",
        "from progressbar import ProgressBar\n",
        "progressbar = ProgressBar()\n",
        "print('Finding regularization factor using grid search')\n",
        "best_reg_factor = 0\n",
        "mean_squared_errors = []\n",
        "for candidate_reg_factor in progressbar(alphas):\n",
        "  print('Trying using {} as regularization factor'.format(candidate_reg_factor))\n",
        "  mean_squared_error = 0\n",
        "  candidate_rr = SparkRidgeRegression(n_iterations=n_iterations, learning_rate=learning_rate, reg_factor=candidate_reg_factor)\n",
        "  candidate_rr.fit(labeled_train_df)\n",
        "  print('Validating')\n",
        "  candidate_pred = labeled_validation_df.map(lambda prediction: candidate_rr.predict(prediction))\n",
        "  mean_squared_error = candidate_rr.mean_squared_error(predictions=candidate_pred)\n",
        "  mean_squared_errors.append(mean_squared_error)\n",
        "  if mean_squared_error < lowest_error:\n",
        "    print('Currently best regularization factor: {}'.format(candidate_reg_factor))\n",
        "    best_reg_factor = candidate_reg_factor\n",
        "    lowest_error = mean_squared_error\n",
        "print('Grid search terminated, chosen regularization factor: {}'.format(best_reg_factor))"
      ],
      "execution_count": null,
      "outputs": []
    },
    {
      "cell_type": "code",
      "metadata": {
        "id": "iz1adksczoXG",
        "outputId": "66781a55-aefd-4521-fb90-a80358f26e64",
        "colab": {
          "base_uri": "https://localhost:8080/",
          "height": 347
        }
      },
      "source": [
        "print('MSE with different regularization factors')\n",
        "sn.lineplot(alphas, mean_squared_errors).grid()"
      ],
      "execution_count": null,
      "outputs": [
        {
          "output_type": "stream",
          "text": [
            "/usr/local/lib/python3.6/dist-packages/seaborn/_decorators.py:43: FutureWarning: Pass the following variables as keyword args: x, y. From version 0.12, the only valid positional argument will be `data`, and passing other arguments without an explicit keyword will result in an error or misinterpretation.\n",
            "  FutureWarning\n"
          ],
          "name": "stderr"
        },
        {
          "output_type": "stream",
          "text": [
            "MSE with different regularization factors\n"
          ],
          "name": "stdout"
        },
        {
          "output_type": "display_data",
          "data": {
            "image/png": "[encoded data removed]",
            "text/plain": [
              "<Figure size 432x288 with 1 Axes>"
            ]
          },
          "metadata": {
            "tags": [],
            "needs_background": "light"
          }
        }
      ]
    },
    {
      "cell_type": "markdown",
      "metadata": {
        "id": "x9iuu2vCCBx3"
      },
      "source": [
        "# Training and evaluation"
      ]
    },
    {
      "cell_type": "code",
      "metadata": {
        "id": "1oveBRH_2nzs",
        "outputId": "db58a433-db5c-4c30-d200-1ebcaf6244b7",
        "colab": {
          "base_uri": "https://localhost:8080/",
          "height": 119
        }
      },
      "source": [
        "%%time\n",
        "print('Training with {} as learning rate and {} as regularization factor'.format(learning_rate, 0.1))\n",
        "spark_rr = SparkRidgeRegression(n_iterations=6000, learning_rate=0.00000003, reg_factor=0.01)\n",
        "now = datetime.now()\n",
        "spark_rr.fit(labeled_train_df)\n",
        "print('==> Done in {}\\n'.format(datetime.now()-now))"
      ],
      "execution_count": null,
      "outputs": [
        {
          "output_type": "stream",
          "text": [
            "\r                                                                               \r\rN/A% (0 of 6000) |                       | Elapsed Time: 0:00:00 ETA:  --:--:--"
          ],
          "name": "stderr"
        },
        {
          "output_type": "stream",
          "text": [
            "Training with 1e-09 as learning rate and 0.1 as regularization factor\n"
          ],
          "name": "stdout"
        },
        {
          "output_type": "stream",
          "text": [
            "100% (6000 of 6000) |####################| Elapsed Time: 1:23:47 Time:  1:23:47\n"
          ],
          "name": "stderr"
        },
        {
          "output_type": "stream",
          "text": [
            "==> Done in 1:23:47.564787\n",
            "\n",
            "CPU times: user 14min 35s, sys: 26.9 s, total: 15min 2s\n",
            "Wall time: 1h 23min 47s\n"
          ],
          "name": "stdout"
        }
      ]
    },
    {
      "cell_type": "code",
      "metadata": {
        "id": "koNqmnzQSNgW",
        "outputId": "82ddb47b-cb2b-49c4-f4d3-70844ce2a9cc",
        "colab": {
          "base_uri": "https://localhost:8080/",
          "height": 102
        }
      },
      "source": [
        "%%time\n",
        "print('Predicting')\n",
        "predictions = labeled_test_df.map(lambda prediction: spark_rr.predict(prediction))\n",
        "float_predictions = predictions.map(lambda xs: [float(x) for x in xs])\n",
        "predictions_df = float_predictions.toDF(['label', 'predictions'])\n",
        "print('==> Done\\n')"
      ],
      "execution_count": null,
      "outputs": [
        {
          "output_type": "stream",
          "text": [
            "Predicting\n",
            "==> Done\n",
            "\n",
            "CPU times: user 249 ms, sys: 5.94 ms, total: 255 ms\n",
            "Wall time: 304 ms\n"
          ],
          "name": "stdout"
        }
      ]
    },
    {
      "cell_type": "code",
      "metadata": {
        "id": "PFqhWTUh2n0B",
        "outputId": "9b3dcde6-43af-45e7-b031-3772fe52e6b9",
        "colab": {
          "base_uri": "https://localhost:8080/",
          "height": 153
        }
      },
      "source": [
        "%%time\n",
        "root_mean_squared_error = spark_rr.root_mean_squared_error(predictions=predictions)\n",
        "mean_squared_error = spark_rr.mean_squared_error(predictions=predictions)\n",
        "mean_absolute_error = spark_rr.mean_absolute_error(predictions=predictions)\n",
        "r2_score = spark_rr.r2(predictions_df)\n",
        "print('From scratch test MSE: {}'.format(mean_squared_error))\n",
        "print('From scratch test RMSE: {}'.format(root_mean_squared_error))\n",
        "print('From scratch test MAE: {}'.format(mean_absolute_error))\n",
        "print('From scratch test R2: {}'.format(r2_score))\n",
        "print('==> Done\\n')"
      ],
      "execution_count": null,
      "outputs": [
        {
          "output_type": "stream",
          "text": [
            "From scratch test MSE: 88840739.55979964\n",
            "From scratch test RMSE: 9425.53656614835\n",
            "From scratch test MAE: 141.08021747711598\n",
            "From scratch test R2: 0.6115190643846994\n",
            "==> Done\n",
            "\n",
            "CPU times: user 623 ms, sys: 10.4 ms, total: 633 ms\n",
            "Wall time: 3.06 s\n"
          ],
          "name": "stdout"
        }
      ]
    },
    {
      "cell_type": "code",
      "metadata": {
        "id": "seu2MrQK2n0L",
        "outputId": "de74a372-194d-42d6-d6d6-b7b38f2ce4c4",
        "colab": {
          "base_uri": "https://localhost:8080/",
          "height": 514
        }
      },
      "source": [
        "fig = plt.figure(figsize = (12, 7))\n",
        "g = sn.lineplot(x = np.arange(spark_rr.n_iterations), y = spark_rr.training_errors, color = 'crimson').grid()\n",
        "fig.suptitle('Plotting training error during GD iterations', fontsize = 20)\n",
        "plt.xlabel('Iteration', fontsize = 14)\n",
        "plt.ylabel('Training error', fontsize = 14)"
      ],
      "execution_count": null,
      "outputs": [
        {
          "output_type": "execute_result",
          "data": {
            "text/plain": [
              "Text(0, 0.5, 'Training error')"
            ]
          },
          "metadata": {
            "tags": []
          },
          "execution_count": 54
        },
        {
          "output_type": "display_data",
          "data": {
            "image/png": "[encoded data removed]",
            "text/plain": [
              "<Figure size 864x504 with 1 Axes>"
            ]
          },
          "metadata": {
            "tags": [],
            "needs_background": "light"
          }
        }
      ]
    }
  ]
}